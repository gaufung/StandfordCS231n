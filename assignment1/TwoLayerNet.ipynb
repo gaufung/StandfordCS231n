{
 "cells": [
  {
   "cell_type": "markdown",
   "metadata": {},
   "source": [
    "Implementing a Neural Network"
   ]
  },
  {
   "cell_type": "markdown",
   "metadata": {},
   "source": [
    "# 1 PreWork\n",
    "create a small net and some toy data to check your implementations."
   ]
  },
  {
   "cell_type": "code",
   "execution_count": 2,
   "metadata": {
    "collapsed": false
   },
   "outputs": [],
   "source": [
    "import numpy as np\n",
    "from nerual_net import TwoLayerNet\n",
    "input_size = 4\n",
    "hidden_size = 10\n",
    "num_classes = 3\n",
    "num_inputs = 5\n",
    "\n",
    "def init_toy_model():\n",
    "    np.random.seed(0)\n",
    "    return TwoLayerNet(input_size, hidden_size, num_classes, std=1e-1)\n",
    "\n",
    "def init_toy_data():\n",
    "    np.random.seed(1)\n",
    "    X = 10 * np.random.randn(num_inputs, input_size)\n",
    "    y = np.array([0, 1, 2, 2, 1])\n",
    "    return X, y\n",
    "\n",
    "net = init_toy_model()\n",
    "X, y = init_toy_data()"
   ]
  },
  {
   "cell_type": "markdown",
   "metadata": {
    "collapsed": true
   },
   "source": [
    "# 2 Forward pass: compute scores"
   ]
  },
  {
   "cell_type": "code",
   "execution_count": 3,
   "metadata": {
    "collapsed": false
   },
   "outputs": [
    {
     "name": "stdout",
     "output_type": "stream",
     "text": [
      "Your Scores:\n",
      "[[-0.81233741 -1.27654624 -0.70335995]\n",
      " [-0.17129677 -1.18803311 -0.47310444]\n",
      " [-0.51590475 -1.01354314 -0.8504215 ]\n",
      " [-0.15419291 -0.48629638 -0.52901952]\n",
      " [-0.00618733 -0.12435261 -0.15226949]]\n"
     ]
    }
   ],
   "source": [
    "scores = net.loss(X)\n",
    "print('Your Scores:')\n",
    "print(scores)"
   ]
  },
  {
   "cell_type": "markdown",
   "metadata": {},
   "source": [
    "# 3 Forward pass: compute loss"
   ]
  },
  {
   "cell_type": "code",
   "execution_count": 4,
   "metadata": {
    "collapsed": false
   },
   "outputs": [
    {
     "name": "stdout",
     "output_type": "stream",
     "text": [
      "Different between your loss and corrent loss:\n",
      "1.79856129989e-13\n"
     ]
    }
   ],
   "source": [
    "loss, _ = net.loss(X, y, reg =0.1)\n",
    "correct_loss = 1.30378789133\n",
    "\n",
    "print('Different between your loss and corrent loss:')\n",
    "print(np.sum(np.abs(loss - correct_loss)))"
   ]
  },
  {
   "cell_type": "markdown",
   "metadata": {},
   "source": [
    "# 4 Train the network"
   ]
  },
  {
   "cell_type": "code",
   "execution_count": 5,
   "metadata": {
    "collapsed": false
   },
   "outputs": [
    {
     "name": "stdout",
     "output_type": "stream",
     "text": [
      "final training loss:  0.0171496079387\n"
     ]
    }
   ],
   "source": [
    "net = init_toy_model()\n",
    "stats = net.train(X, y, X, y,\n",
    "            learning_rate=1e-1, reg=1e-5,\n",
    "            num_iters=100, verbose=False)\n",
    "print('final training loss: ', stats['loss_history'][-1])"
   ]
  },
  {
   "cell_type": "code",
   "execution_count": 6,
   "metadata": {
    "collapsed": false
   },
   "outputs": [
    {
     "data": {
      "image/png": "[encoded data removed]",
      "text/plain": [
       "<matplotlib.figure.Figure at 0x11807b550>"
      ]
     },
     "metadata": {},
     "output_type": "display_data"
    }
   ],
   "source": [
    "import matplotlib.pyplot as plt\n",
    "plt.plot(stats['loss_history'])\n",
    "plt.xlabel('iteration')\n",
    "plt.ylabel('training loss')\n",
    "plt.title('Training Loss history')\n",
    "plt.show()"
   ]
  },
  {
   "cell_type": "markdown",
   "metadata": {},
   "source": [
    "# 5 Load the data\n",
    "Now that you have implemented a two-layer network that passes gradient checks and works on toy data, it's time to load up our favorite CIFAR-10 data so we can use it to train a classifier on a real dataset."
   ]
  },
  {
   "cell_type": "code",
   "execution_count": 7,
   "metadata": {
    "collapsed": false
   },
   "outputs": [
    {
     "name": "stdout",
     "output_type": "stream",
     "text": [
      "Train data shape:  (49000, 3072)\n",
      "Train labels shape:  (49000,)\n",
      "validation data shape:  (1000, 3072)\n",
      "validation label shape: (1000,)\n",
      "test data shape:  (1000, 3072)\n",
      "test label shape:  (1000,)\n"
     ]
    }
   ],
   "source": [
    "from data_util import load_CIFAR10\n",
    "def get_CIFAR10_data(num_training=49000, num_validation=1000, num_test=1000):\n",
    "    X_train, y_train, X_test, y_test = load_CIFAR10()\n",
    "    mask = range(num_training, num_training + num_validation)\n",
    "    X_val = X_train[mask]\n",
    "    y_val = y_train[mask]\n",
    "    mask = range(num_training)\n",
    "    X_train = X_train[mask]\n",
    "    y_train = y_train[mask]\n",
    "    mask = range(num_test)\n",
    "    X_test = X_test[mask]\n",
    "    y_test = y_test[mask]\n",
    "\n",
    "    # Normalize the data: subtract the mean image\n",
    "    mean_image = np.mean(X_train, axis=0)\n",
    "    X_train -= mean_image\n",
    "    X_val -= mean_image\n",
    "    X_test -= mean_image\n",
    "\n",
    "    # Reshape data to rows\n",
    "    X_train = X_train.reshape(num_training, -1)\n",
    "    X_val = X_val.reshape(num_validation, -1)\n",
    "    X_test = X_test.reshape(num_test, -1)\n",
    "\n",
    "    return X_train, y_train, X_val, y_val, X_test, y_test\n",
    "\n",
    "X_train, y_train, X_val, y_val, X_test, y_test = get_CIFAR10_data()\n",
    "print('Train data shape: ', X_train.shape)\n",
    "print('Train labels shape: ', y_train.shape)\n",
    "print('validation data shape: ', X_val.shape)\n",
    "print('validation label shape:', y_val.shape)\n",
    "print('test data shape: ', X_test.shape)\n",
    "print('test label shape: ', y_test.shape)"
   ]
  },
  {
   "cell_type": "code",
   "execution_count": 19,
   "metadata": {
    "collapsed": false
   },
   "outputs": [],
   "source": [
    "input_size = 32 * 32 * 3\n",
    "hidden_size = 50\n",
    "num_classes = 10\n",
    "net = TwoLayerNet(input_size, hidden_size, num_classes)\n",
    "stats = net.train(X_train, y_train, X_val, y_val,\n",
    "                 num_iters=1000, batch_size=200,\n",
    "                 learning_rate=1e-4, learning_rate_decay=0.95,\n",
    "                 reg=0.5, verbose=False)"
   ]
  },
  {
   "cell_type": "code",
   "execution_count": 20,
   "metadata": {
    "collapsed": false
   },
   "outputs": [
    {
     "name": "stdout",
     "output_type": "stream",
     "text": [
      "Validation accuracy:  0.277\n"
     ]
    }
   ],
   "source": [
    "val_acc = (net.predict(X_val) == y_val).mean()\n",
    "print ('Validation accuracy: ', val_acc)"
   ]
  },
  {
   "cell_type": "markdown",
   "metadata": {},
   "source": [
    "# 6 Debug the training\n"
   ]
  },
  {
   "cell_type": "code",
   "execution_count": 21,
   "metadata": {
    "collapsed": false
   },
   "outputs": [
    {
     "data": {
      "image/png": "[encoded data removed]",
      "text/plain": [
       "<matplotlib.figure.Figure at 0x11807b668>"
      ]
     },
     "metadata": {},
     "output_type": "display_data"
    }
   ],
   "source": [
    "plt.subplot(2, 1, 1)\n",
    "plt.plot(stats['loss_history'])\n",
    "plt.title('Loss history')\n",
    "plt.xlabel('Iteration')\n",
    "plt.ylabel('Loss')\n",
    "\n",
    "plt.subplot(2, 1, 2)\n",
    "plt.plot(stats['train_acc_history'], label='train')\n",
    "plt.plot(stats['val_acc_history'], label='val')\n",
    "plt.title('Classification accuracy history')\n",
    "plt.xlabel('Epoch')\n",
    "plt.ylabel('Clasification accuracy')\n",
    "plt.show()"
   ]
  },
  {
   "cell_type": "markdown",
   "metadata": {},
   "source": [
    "# 7 Tune your hyperparameters"
   ]
  },
  {
   "cell_type": "code",
   "execution_count": 24,
   "metadata": {
    "collapsed": false
   },
   "outputs": [
    {
     "name": "stdout",
     "output_type": "stream",
     "text": [
      "running\n",
      ".\n",
      ".\n",
      ".\n",
      ".\n",
      ".\n",
      ".\n",
      ".\n",
      ".\n",
      ".\n",
      ".\n",
      ".\n",
      ".\n",
      ".\n",
      ".\n",
      ".\n",
      ".\n",
      ".\n",
      ".\n",
      ".\n",
      ".\n",
      ".\n",
      ".\n",
      ".\n",
      ".\n",
      ".\n",
      ".\n",
      ".\n",
      ".\n",
      ".\n",
      ".\n",
      ".\n",
      ".\n",
      ".\n",
      ".\n",
      ".\n",
      ".\n",
      ".\n",
      ".\n",
      ".\n",
      ".\n",
      ".\n",
      ".\n",
      ".\n",
      ".\n",
      ".\n",
      "finshed\n",
      "hs 75 lr 7.000000e-04 reg 7.500000e-01 val accuracy: 0.474000\n",
      "hs 75 lr 7.000000e-04 reg 1.000000e+00 val accuracy: 0.475000\n",
      "hs 75 lr 7.000000e-04 reg 1.250000e+00 val accuracy: 0.482000\n",
      "hs 75 lr 8.000000e-04 reg 7.500000e-01 val accuracy: 0.480000\n",
      "hs 75 lr 8.000000e-04 reg 1.000000e+00 val accuracy: 0.504000\n",
      "hs 75 lr 8.000000e-04 reg 1.250000e+00 val accuracy: 0.473000\n",
      "hs 75 lr 9.000000e-04 reg 7.500000e-01 val accuracy: 0.470000\n",
      "hs 75 lr 9.000000e-04 reg 1.000000e+00 val accuracy: 0.477000\n",
      "hs 75 lr 9.000000e-04 reg 1.250000e+00 val accuracy: 0.479000\n",
      "hs 75 lr 1.000000e-03 reg 7.500000e-01 val accuracy: 0.476000\n",
      "hs 75 lr 1.000000e-03 reg 1.000000e+00 val accuracy: 0.483000\n",
      "hs 75 lr 1.000000e-03 reg 1.250000e+00 val accuracy: 0.482000\n",
      "hs 75 lr 1.100000e-03 reg 7.500000e-01 val accuracy: 0.499000\n",
      "hs 75 lr 1.100000e-03 reg 1.000000e+00 val accuracy: 0.488000\n",
      "hs 75 lr 1.100000e-03 reg 1.250000e+00 val accuracy: 0.496000\n",
      "hs 100 lr 7.000000e-04 reg 7.500000e-01 val accuracy: 0.492000\n",
      "hs 100 lr 7.000000e-04 reg 1.000000e+00 val accuracy: 0.473000\n",
      "hs 100 lr 7.000000e-04 reg 1.250000e+00 val accuracy: 0.478000\n",
      "hs 100 lr 8.000000e-04 reg 7.500000e-01 val accuracy: 0.479000\n",
      "hs 100 lr 8.000000e-04 reg 1.000000e+00 val accuracy: 0.487000\n",
      "hs 100 lr 8.000000e-04 reg 1.250000e+00 val accuracy: 0.472000\n",
      "hs 100 lr 9.000000e-04 reg 7.500000e-01 val accuracy: 0.505000\n",
      "hs 100 lr 9.000000e-04 reg 1.000000e+00 val accuracy: 0.487000\n",
      "hs 100 lr 9.000000e-04 reg 1.250000e+00 val accuracy: 0.472000\n",
      "hs 100 lr 1.000000e-03 reg 7.500000e-01 val accuracy: 0.484000\n",
      "hs 100 lr 1.000000e-03 reg 1.000000e+00 val accuracy: 0.476000\n",
      "hs 100 lr 1.000000e-03 reg 1.250000e+00 val accuracy: 0.486000\n",
      "hs 100 lr 1.100000e-03 reg 7.500000e-01 val accuracy: 0.497000\n",
      "hs 100 lr 1.100000e-03 reg 1.000000e+00 val accuracy: 0.488000\n",
      "hs 100 lr 1.100000e-03 reg 1.250000e+00 val accuracy: 0.472000\n",
      "hs 125 lr 7.000000e-04 reg 7.500000e-01 val accuracy: 0.487000\n",
      "hs 125 lr 7.000000e-04 reg 1.000000e+00 val accuracy: 0.483000\n",
      "hs 125 lr 7.000000e-04 reg 1.250000e+00 val accuracy: 0.475000\n",
      "hs 125 lr 8.000000e-04 reg 7.500000e-01 val accuracy: 0.494000\n",
      "hs 125 lr 8.000000e-04 reg 1.000000e+00 val accuracy: 0.458000\n",
      "hs 125 lr 8.000000e-04 reg 1.250000e+00 val accuracy: 0.489000\n",
      "hs 125 lr 9.000000e-04 reg 7.500000e-01 val accuracy: 0.494000\n",
      "hs 125 lr 9.000000e-04 reg 1.000000e+00 val accuracy: 0.493000\n",
      "hs 125 lr 9.000000e-04 reg 1.250000e+00 val accuracy: 0.484000\n",
      "hs 125 lr 1.000000e-03 reg 7.500000e-01 val accuracy: 0.492000\n",
      "hs 125 lr 1.000000e-03 reg 1.000000e+00 val accuracy: 0.493000\n",
      "hs 125 lr 1.000000e-03 reg 1.250000e+00 val accuracy: 0.480000\n",
      "hs 125 lr 1.100000e-03 reg 7.500000e-01 val accuracy: 0.480000\n",
      "hs 125 lr 1.100000e-03 reg 1.000000e+00 val accuracy: 0.496000\n",
      "hs 125 lr 1.100000e-03 reg 1.250000e+00 val accuracy: 0.495000\n",
      "best validation accuracy achieved during cross-validation: 0.505000\n"
     ]
    }
   ],
   "source": [
    "best_net = None # store the best model into this \n",
    "hidden_size = [75, 100, 125]\n",
    "results = {}\n",
    "best_val_acc = 0\n",
    "best_net = None\n",
    "\n",
    "learning_rates = np.array([0.7, 0.8, 0.9, 1, 1.1])*1e-3\n",
    "regularization_strengths = [0.75, 1, 1.25]\n",
    "\n",
    "print ('running')\n",
    "for hs in hidden_size:\n",
    "    for lr in learning_rates:\n",
    "        for reg in regularization_strengths:\n",
    "            print ('.')\n",
    "            net = TwoLayerNet(input_size, hs, num_classes)\n",
    "            # Train the network\n",
    "            stats = net.train(X_train, y_train, X_val, y_val,\n",
    "            num_iters=1500, batch_size=200,\n",
    "            learning_rate=lr, learning_rate_decay=0.95,\n",
    "            reg= reg, verbose=False)\n",
    "            val_acc = (net.predict(X_val) == y_val).mean()\n",
    "            if val_acc > best_val_acc:\n",
    "                best_val_acc = val_acc\n",
    "                best_net = net         \n",
    "            results[(hs,lr,reg)] = val_acc\n",
    "print(\"finshed\")\n",
    "# Print out results.\n",
    "for hs,lr, reg in sorted(results):\n",
    "    val_acc = results[(hs, lr, reg)]\n",
    "    print ('hs %d lr %e reg %e val accuracy: %f' % (hs, lr, reg,  val_acc))\n",
    "    \n",
    "print ('best validation accuracy achieved during cross-validation: %f' % best_val_acc)"
   ]
  },
  {
   "cell_type": "markdown",
   "metadata": {},
   "source": [
    "# 8 Run on the test set"
   ]
  },
  {
   "cell_type": "code",
   "execution_count": 25,
   "metadata": {
    "collapsed": false
   },
   "outputs": [
    {
     "name": "stdout",
     "output_type": "stream",
     "text": [
      "test accuracy:  0.503\n"
     ]
    }
   ],
   "source": [
    "test_acc = (best_net.predict(X_test)==y_test).mean()\n",
    "print('test accuracy: ', test_acc)"
   ]
  },
  {
   "cell_type": "code",
   "execution_count": null,
   "metadata": {
    "collapsed": true
   },
   "outputs": [],
   "source": []
  }
 ],
 "metadata": {
  "kernelspec": {
   "display_name": "Python 3",
   "language": "python",
   "name": "python3"
  },
  "language_info": {
   "codemirror_mode": {
    "name": "ipython",
    "version": 3
   },
   "file_extension": ".py",
   "mimetype": "text/x-python",
   "name": "python",
   "nbconvert_exporter": "python",
   "pygments_lexer": "ipython3",
   "version": "3.6.0"
  }
 },
 "nbformat": 4,
 "nbformat_minor": 2
}
